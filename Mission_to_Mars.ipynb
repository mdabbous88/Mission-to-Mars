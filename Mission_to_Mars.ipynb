{
 "cells": [
  {
   "cell_type": "code",
   "execution_count": 60,
   "metadata": {},
   "outputs": [],
   "source": [
    "# Import Splinter and BeautifulSoup\n",
    "from splinter import Browser\n",
    "from bs4 import BeautifulSoup as soup\n",
    "from webdriver_manager.chrome import ChromeDriverManager\n",
    "import pandas as pd"
   ]
  },
  {
   "cell_type": "code",
   "execution_count": 61,
   "metadata": {},
   "outputs": [
    {
     "name": "stderr",
     "output_type": "stream",
     "text": [
      "\n",
      "\n",
      "====== WebDriver manager ======\n",
      "Current google-chrome version is 90.0.4430\n",
      "Get LATEST driver version for 90.0.4430\n",
      "Driver [/Users/mdabbous/.wdm/drivers/chromedriver/mac64/90.0.4430.24/chromedriver] found in cache\n"
     ]
    }
   ],
   "source": [
    "executable_path = {'executable_path': ChromeDriverManager().install()}\n",
    "browser = Browser('chrome', **executable_path, headless=False)"
   ]
  },
  {
   "cell_type": "code",
   "execution_count": 62,
   "metadata": {},
   "outputs": [
    {
     "data": {
      "text/plain": [
       "True"
      ]
     },
     "execution_count": 62,
     "metadata": {},
     "output_type": "execute_result"
    }
   ],
   "source": [
    "# Visit the mars nasa news site\n",
    "url = 'https://redplanetscience.com'\n",
    "browser.visit(url)\n",
    "# Optional delay for loading the page\n",
    "browser.is_element_present_by_css('div.list_text', wait_time=1)"
   ]
  },
  {
   "cell_type": "code",
   "execution_count": 63,
   "metadata": {},
   "outputs": [],
   "source": [
    "html = browser.html\n",
    "news_soup = soup(html, 'html.parser')\n",
    "slide_elem = news_soup.select_one('div.list_text')"
   ]
  },
  {
   "cell_type": "code",
   "execution_count": 64,
   "metadata": {},
   "outputs": [
    {
     "data": {
      "text/plain": [
       "'NASA Perseverance Mars Rover Scientists Train in the Nevada Desert'"
      ]
     },
     "execution_count": 64,
     "metadata": {},
     "output_type": "execute_result"
    }
   ],
   "source": [
    "# Use the parent element to find the first `a` tag and save it as `news_title`\n",
    "news_title = slide_elem.find('div', class_='content_title').get_text()\n",
    "news_title"
   ]
  },
  {
   "cell_type": "code",
   "execution_count": 65,
   "metadata": {},
   "outputs": [
    {
     "data": {
      "text/plain": [
       "\"Team members searched for signs of ancient microscopic life there, just as NASA's latest rover will on the Red Planet next year.\""
      ]
     },
     "execution_count": 65,
     "metadata": {},
     "output_type": "execute_result"
    }
   ],
   "source": [
    "# Use the parent element to find the paragraph text\n",
    "news_p = slide_elem.find('div', class_='article_teaser_body').get_text()\n",
    "news_p"
   ]
  },
  {
   "cell_type": "markdown",
   "metadata": {},
   "source": [
    "### Featured Images"
   ]
  },
  {
   "cell_type": "code",
   "execution_count": 7,
   "metadata": {},
   "outputs": [],
   "source": [
    "# Visit URL\n",
    "url = 'https://spaceimages-mars.com'\n",
    "browser.visit(url)"
   ]
  },
  {
   "cell_type": "code",
   "execution_count": 8,
   "metadata": {},
   "outputs": [],
   "source": [
    "# Find and click the full image button\n",
    "full_image_elem = browser.find_by_tag('button')[1]\n",
    "full_image_elem.click()"
   ]
  },
  {
   "cell_type": "code",
   "execution_count": 9,
   "metadata": {},
   "outputs": [],
   "source": [
    "# Parse the resulting html with soup\n",
    "html = browser.html\n",
    "img_soup = soup(html, 'html.parser')"
   ]
  },
  {
   "cell_type": "code",
   "execution_count": 10,
   "metadata": {},
   "outputs": [
    {
     "name": "stdout",
     "output_type": "stream",
     "text": [
      "--------------------------------------\n",
      "image/nasa.png\n",
      "--------------------------------------\n",
      "image/featured/mars3.jpg\n",
      "--------------------------------------\n",
      "image/mars/Icaria Fossae7.jpg\n",
      "--------------------------------------\n",
      "image/mars/Proctor Crater Dunes 7.jpg\n",
      "--------------------------------------\n",
      "image/mars/Icaria Fossae7.jpg\n",
      "--------------------------------------\n",
      "image/mars/Proctor Crater Dunes 7.jpg\n",
      "--------------------------------------\n",
      "image/mars/Proctor Crater Dunes 7.jpg\n",
      "--------------------------------------\n",
      "image/mars/Icaria Fossae7.jpg\n",
      "--------------------------------------\n",
      "image/mars/Icaria Fossae.jpg\n",
      "--------------------------------------\n",
      "image/mars/Ariadnes Colles4.jpg\n",
      "--------------------------------------\n",
      "image/mars/Niger Vallis.jpg\n",
      "--------------------------------------\n",
      "image/mars/Proctor Crater Dunes.jpg\n",
      "--------------------------------------\n",
      "image/mars/Niger Vallis.jpg\n",
      "--------------------------------------\n",
      "image/mars/Daedalia Planum.jpg\n",
      "--------------------------------------\n",
      "image/mars/Sirenum Fossae.jpg\n",
      "--------------------------------------\n",
      "image/mars/Ariadnes Colles4.jpg\n",
      "--------------------------------------\n",
      "image/mars/South Polar Cap.jpg\n",
      "--------------------------------------\n",
      "image/mars/Daedalia Planum.jpg\n",
      "--------------------------------------\n",
      "image/mars/Ariadnes Colles3.jpg\n",
      "--------------------------------------\n",
      "image/mars/Atlantis Chaos.jpg\n",
      "--------------------------------------\n",
      "image/mars/Daedalia Planum.jpg\n",
      "--------------------------------------\n",
      "image/mars/Icaria Fossae.jpg\n",
      "--------------------------------------\n",
      "image/mars/Niger Vallis.jpg\n",
      "--------------------------------------\n",
      "image/mars/Proctor Crater Dunes.jpg\n",
      "--------------------------------------\n",
      "image/mars/Reull Vallis.jpg\n",
      "--------------------------------------\n",
      "image/mars/Ariadnes Colles3.jpg\n",
      "--------------------------------------\n",
      "image/mars/Sirenum Fossae.jpg\n",
      "--------------------------------------\n",
      "image/mars/South Polar Cap.jpg\n",
      "--------------------------------------\n",
      "image/mars/Niger Vallis.jpg\n",
      "--------------------------------------\n",
      "image/mars/Daedalia Planum.jpg\n",
      "--------------------------------------\n",
      "image/mars/Icaria Fossae.jpg\n",
      "--------------------------------------\n",
      "image/mars/Ariadnes Colles4.jpg\n",
      "--------------------------------------\n",
      "image/mars/South Polar Cap.jpg\n",
      "--------------------------------------\n",
      "image/mars/Daedalia Planum.jpg\n",
      "--------------------------------------\n",
      "\n",
      "--------------------------------------\n",
      "https://www.jpl.nasa.gov/assets/images/content/tmp/images/jpl_photojournal(3x1).jpg\n",
      "--------------------------------------\n",
      "https://www.jpl.nasa.gov/assets/images/content/tmp/images/nasa_images(3x1).jpg\n",
      "--------------------------------------\n",
      "https://imagecache.jpl.nasa.gov/images/640x350/C1-PIA24304---CatScanMars-16-640x350.gif\n",
      "--------------------------------------\n",
      "https://imagecache.jpl.nasa.gov/images/640x350/PIA23491-16-640x350.jpg\n",
      "--------------------------------------\n",
      "https://imagecache.jpl.nasa.gov/images/640x350/C1-PIA23180-16-640x350.gif\n",
      "--------------------------------------\n",
      "image/featured/mars3.jpg\n"
     ]
    }
   ],
   "source": [
    "# Find the relative image url\n",
    "img_url_rel = img_soup.find_all('img')\n",
    "for url in img_url_rel:\n",
    "    src = url.get('src')\n",
    "    print('--------------------------------------')\n",
    "    print(src)"
   ]
  },
  {
   "cell_type": "code",
   "execution_count": 18,
   "metadata": {},
   "outputs": [
    {
     "data": {
      "text/plain": [
       "<img alt=\"\" class=\"fancybox-image\" src=\"image/featured/mars3.jpg\"/>"
      ]
     },
     "execution_count": 18,
     "metadata": {},
     "output_type": "execute_result"
    }
   ],
   "source": [
    "# Find the relative image url\n",
    "img_url_rel = img_soup.find('img', class_='fancybox-image')\n",
    "img_url_rel"
   ]
  },
  {
   "cell_type": "code",
   "execution_count": 12,
   "metadata": {},
   "outputs": [
    {
     "data": {
      "text/plain": [
       "'https://spaceimages-mars.com/image/featured/mars3.jpg'"
      ]
     },
     "execution_count": 12,
     "metadata": {},
     "output_type": "execute_result"
    }
   ],
   "source": [
    "# Use the base url to create an absolute url\n",
    "img_url = f'https://spaceimages-mars.com/{img_url_rel}'\n",
    "img_url"
   ]
  },
  {
   "cell_type": "code",
   "execution_count": 36,
   "metadata": {},
   "outputs": [],
   "source": [
    "# ## Mars Facts\n",
    "\n",
    "df = pd.read_html('https://galaxyfacts-mars.com')[0]\n",
    "df.head()\n",
    "\n",
    "df.columns=['Description', 'Mars', 'Earth']\n",
    "df.set_index('Description', inplace=True)\n",
    "df\n",
    "df.to_html()\n",
    "\n",
    "browser.quit()"
   ]
  },
  {
   "cell_type": "code",
   "execution_count": null,
   "metadata": {},
   "outputs": [],
   "source": []
  }
 ],
 "metadata": {
  "kernelspec": {
   "display_name": "PythonData",
   "language": "python",
   "name": "pythondata"
  },
  "language_info": {
   "codemirror_mode": {
    "name": "ipython",
    "version": 3
   },
   "file_extension": ".py",
   "mimetype": "text/x-python",
   "name": "python",
   "nbconvert_exporter": "python",
   "pygments_lexer": "ipython3",
   "version": "3.7.9"
  }
 },
 "nbformat": 4,
 "nbformat_minor": 4
}
